{
  "nbformat": 4,
  "nbformat_minor": 0,
  "metadata": {
    "orig_nbformat": 2,
    "colab": {
      "name": "test.ipynb",
      "provenance": []
    },
    "kernelspec": {
      "name": "python3",
      "display_name": "Python 3"
    }
  },
  "cells": [
    {
      "cell_type": "code",
      "metadata": {
        "colab": {
          "base_uri": "https://localhost:8080/"
        },
        "id": "DyfigZi0Xg56",
        "outputId": "ecf99ecc-66a2-40b6-81f2-3b10a254bf83"
      },
      "source": [
        "print(\"Hello World\")"
      ],
      "execution_count": null,
      "outputs": [
        {
          "output_type": "stream",
          "text": [
            "Hello World\n"
          ],
          "name": "stdout"
        }
      ]
    },
    {
      "cell_type": "code",
      "metadata": {
        "id": "5We5YFK0n3Wn"
      },
      "source": [
        "import pandas as pd"
      ],
      "execution_count": null,
      "outputs": []
    },
    {
      "cell_type": "code",
      "metadata": {
        "id": "mvYX3IEzozYo",
        "colab": {
          "base_uri": "https://localhost:8080/"
        },
        "outputId": "51e42261-cf88-4472-c123-d0fc423cd466"
      },
      "source": [
        "# Create the Timestamp object \r\n",
        "ts = pd.Timestamp(year = 2011,  month = 11, day = 21, \r\n",
        "           hour = 10, second = 49, tz = 'US/Central') \r\n",
        "  \r\n",
        "# Print the Timestamp object \r\n",
        "print(ts) "
      ],
      "execution_count": null,
      "outputs": [
        {
          "output_type": "stream",
          "text": [
            "2011-11-21 10:00:49-06:00\n"
          ],
          "name": "stdout"
        }
      ]
    },
    {
      "cell_type": "code",
      "metadata": {
        "id": "XHN1qSOCpFIz"
      },
      "source": [
        "df = pd.DataFrame([\"hi\", \"thing\"])"
      ],
      "execution_count": null,
      "outputs": []
    },
    {
      "cell_type": "code",
      "metadata": {
        "id": "O0C5UA8kq958"
      },
      "source": [
        "df = pd.DataFrame([\"hi\", \"thing\"])"
      ],
      "execution_count": null,
      "outputs": []
    }
  ]
}